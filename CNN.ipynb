{
 "cells": [
  {
   "cell_type": "code",
   "execution_count": 1,
   "id": "db8cd819-4852-4fa3-9584-a6c6536d51a5",
   "metadata": {},
   "outputs": [],
   "source": [
    "import torch\n",
    "import torch.nn as nn\n",
    "import torch.nn.functional as F\n",
    "import torch.optim as optim\n",
    "from torchvision import datasets, transforms\n",
    "from torch.optim.lr_scheduler import StepLR\n",
    "from torch.utils.data import DataLoader, random_split\n",
    "import numpy as np\n",
    "from scipy import linalg\n",
    "import matplotlib.pyplot as plt\n",
    "from sklearn.metrics import confusion_matrix\n",
    "import seaborn as sns\n",
    "import os\n",
    "from tqdm import tqdm\n",
    "\n",
    "# 设置随机种子以确保可复现性\n",
    "torch.manual_seed(42)\n",
    "np.random.seed(42)"
   ]
  },
  {
   "cell_type": "code",
   "execution_count": 2,
   "id": "354d11e0-2562-4b2c-9248-05d131a47514",
   "metadata": {},
   "outputs": [],
   "source": [
    "# 1. 数据加载与预处理\n",
    "def load_data():\n",
    "    \"\"\"加载并预处理MNIST数据集\"\"\"\n",
    "    transform = transforms.Compose([\n",
    "        transforms.ToTensor(),\n",
    "        transforms.Normalize((0.1307,), (0.3081,))  # MNIST数据集的均值和标准差\n",
    "    ])\n",
    "    \n",
    "    # 加载训练集和测试集\n",
    "    train_data = datasets.MNIST('data', train=True, download=True, transform=transform)\n",
    "    test_data = datasets.MNIST('data', train=False, transform=transform)\n",
    "    \n",
    "    # 划分训练集和验证集\n",
    "    train_size = int(0.8 * len(train_data))\n",
    "    val_size = len(train_data) - train_size\n",
    "    train_set, val_set = random_split(train_data, [train_size, val_size])\n",
    "    \n",
    "    return train_set, val_set, test_data"
   ]
  },
  {
   "cell_type": "code",
   "execution_count": 3,
   "id": "ca724f8b-9e15-4309-a660-b46b913f8a37",
   "metadata": {},
   "outputs": [],
   "source": [
    "# # 2. 定义CNN模型\n",
    "# class CNN(nn.Module):\n",
    "#     \"\"\"MNIST分类的卷积神经网络\"\"\"\n",
    "#     def __init__(self):\n",
    "#         super(CNN, self).__init__()\n",
    "#         self.conv1 = nn.Conv2d(1, 32, kernel_size=3, stride=1, padding=1)\n",
    "#         self.conv2 = nn.Conv2d(32, 64, kernel_size=3, stride=1, padding=1)\n",
    "#         self.pool = nn.MaxPool2d(kernel_size=2, stride=2)\n",
    "#         self.fc1 = nn.Linear(64 * 7 * 7, 128)\n",
    "#         self.fc2 = nn.Linear(128, 10) #对应MNIST的10个类别：0-9\n",
    "#         self.dropout = nn.Dropout(0.25)\n",
    "        \n",
    "#     def forward(self, x):\n",
    "#         x = self.pool(F.relu(self.conv1(x)))\n",
    "#         x = self.pool(F.relu(self.conv2(x)))\n",
    "#         x = x.view(-1, 64 * 7 * 7)  # 展平\n",
    "#         x = self.dropout(F.relu(self.fc1(x)))\n",
    "#         x = self.fc2(x)\n",
    "#         return x"
   ]
  },
  {
   "cell_type": "code",
   "execution_count": 4,
   "id": "4334d775-32fc-4656-875c-a8788e3a69a9",
   "metadata": {},
   "outputs": [],
   "source": [
    "# 2. 定义4层卷积的CNN模型\n",
    "class CNN(nn.Module):\n",
    "    \"\"\"具有4层卷积的MNIST分类网络\"\"\"\n",
    "    def __init__(self, input_size, num_classes):\n",
    "        super(CNN, self).__init__()\n",
    "        # 第一组卷积+池化\n",
    "        self.conv1 = nn.Conv2d(1, 16, kernel_size=3, stride=1, padding=1)\n",
    "        self.bn1 = nn.BatchNorm2d(16)\n",
    "        self.conv2 = nn.Conv2d(16, 32, kernel_size=3, stride=1, padding=1)\n",
    "        self.bn2 = nn.BatchNorm2d(32)\n",
    "        self.pool1 = nn.MaxPool2d(kernel_size=2, stride=2)\n",
    "        self.dropout1 = nn.Dropout(0.1)\n",
    "        \n",
    "        # 第二组卷积+池化\n",
    "        self.conv3 = nn.Conv2d(32, 64, kernel_size=3, stride=1, padding=1)\n",
    "        self.bn3 = nn.BatchNorm2d(64)\n",
    "        self.conv4 = nn.Conv2d(64, 128, kernel_size=3, stride=1, padding=1)\n",
    "        self.bn4 = nn.BatchNorm2d(128)\n",
    "        self.pool2 = nn.MaxPool2d(kernel_size=2, stride=2)\n",
    "        self.dropout2 = nn.Dropout(0.2)\n",
    "        \n",
    "        # 第三组卷积+池化\n",
    "        self.conv5 = nn.Conv2d(128, 256, kernel_size=3, stride=1, padding=1)\n",
    "        self.bn5 = nn.BatchNorm2d(256)\n",
    "        self.conv6 = nn.Conv2d(256, 512, kernel_size=3, stride=1, padding=1)\n",
    "        self.bn6 = nn.BatchNorm2d(512)\n",
    "        self.pool3 = nn.MaxPool2d(kernel_size=2, stride=2, padding=1)\n",
    "        self.dropout3 = nn.Dropout(0.2)\n",
    "        \n",
    "        \n",
    "        # 动态计算全连接层输入维度\n",
    "        dummy_input = torch.rand(1, *input_size)  # 创建虚拟输入\n",
    "        conv_output_size = self._get_conv_output_size(dummy_input)\n",
    "        \n",
    "        # 定义全连接部分\n",
    "        self.fc1 = nn.Linear(conv_output_size, 1024)\n",
    "        # self.fc1 = nn.Linear(512 * 4 * 4, 1024)\n",
    "        self.dropout4 = nn.Dropout(0.5)\n",
    "        self.fc2 = nn.Linear(1024, num_classes)\n",
    "    \n",
    "    \n",
    "    def _get_conv_output_size(self, x):\n",
    "        \"\"\"通过前向传播计算卷积部分的输出尺寸\"\"\"\n",
    "        # 第一组卷积层\n",
    "        x = F.relu(self.bn1(self.conv1(x)))\n",
    "        x = F.relu(self.bn2(self.conv2(x)))\n",
    "        x = self.pool1(x)\n",
    "        x = self.dropout1(x)\n",
    "        \n",
    "        # 第二组卷积层\n",
    "        x = F.relu(self.bn3(self.conv3(x)))\n",
    "        x = F.relu(self.bn4(self.conv4(x)))\n",
    "        x = self.pool2(x)\n",
    "        x = self.dropout2(x)\n",
    "        \n",
    "        # 第三组卷积层\n",
    "        x = F.relu(self.bn5(self.conv5(x)))\n",
    "        x = F.relu(self.bn6(self.conv6(x)))\n",
    "        x = self.pool3(x)\n",
    "        x = self.dropout3(x)\n",
    "        \n",
    "        return x.view(1, -1).size(1)  # 返回展平后的维度\n",
    "        \n",
    "    \n",
    "    def forward(self, x):\n",
    "        # 第一组卷积层\n",
    "        x = F.relu(self.bn1(self.conv1(x)))\n",
    "        x = F.relu(self.bn2(self.conv2(x)))\n",
    "        x = self.pool1(x)\n",
    "        x = self.dropout1(x)\n",
    "        \n",
    "        # 第二组卷积层\n",
    "        x = F.relu(self.bn3(self.conv3(x)))\n",
    "        x = F.relu(self.bn4(self.conv4(x)))\n",
    "        x = self.pool2(x)\n",
    "        x = self.dropout2(x)\n",
    "        \n",
    "        # 第三组卷积层\n",
    "        x = F.relu(self.bn5(self.conv5(x)))\n",
    "        x = F.relu(self.bn6(self.conv6(x)))\n",
    "        x = self.pool3(x)\n",
    "        x = self.dropout3(x)\n",
    "        \n",
    "        # 展平并通过全连接层\n",
    "        # x = x.view(-1, 1024 * 4 * 4)\n",
    "        x = x.view(x.size(0), -1)  # 自动计算维度\n",
    "        x = F.relu(self.fc1(x))\n",
    "        x = self.dropout4(x)\n",
    "        x = self.fc2(x)\n",
    "        return x"
   ]
  },
  {
   "cell_type": "code",
   "execution_count": 5,
   "id": "d740358d-39a0-4aa5-9cc9-d9d5386ac077",
   "metadata": {},
   "outputs": [],
   "source": [
    "# 3. 训练模型\n",
    "def train(model, train_loader, val_loader, epochs, lr):\n",
    "    \"\"\"训练CNN模型\"\"\"\n",
    "    device = torch.device(\"cuda\" if torch.cuda.is_available() else \"cpu\")\n",
    "    model = model.to(device)\n",
    "    \n",
    "    criterion = nn.CrossEntropyLoss()\n",
    "    optimizer = optim.Adam(model.parameters(), lr=lr)\n",
    "    scheduler = StepLR(optimizer, step_size=10, gamma=0.5)\n",
    "    \n",
    "    train_losses = []\n",
    "    val_losses = []\n",
    "    val_accuracies = []\n",
    "    best_val_loss = float('inf')\n",
    "    best_model = None\n",
    "    \n",
    "    for epoch in range(epochs):\n",
    "        # 训练阶段\n",
    "        model.train()\n",
    "        train_loss = 0\n",
    "        for data, target in tqdm(train_loader, desc=f'Epoch {epoch+1}/{epochs} [Train]'):\n",
    "            data, target = data.to(device), target.to(device)\n",
    "            optimizer.zero_grad()\n",
    "            output = model(data)\n",
    "            loss = criterion(output, target)\n",
    "            loss.backward()\n",
    "            optimizer.step()\n",
    "            train_loss += loss.item()\n",
    "        \n",
    "        train_loss /= len(train_loader)\n",
    "        train_losses.append(train_loss)\n",
    "        \n",
    "        # 验证阶段\n",
    "        model.eval()\n",
    "        val_loss = 0\n",
    "        correct = 0\n",
    "        total = 0\n",
    "        with torch.no_grad():\n",
    "            for data, target in tqdm(val_loader, desc=f'Epoch {epoch+1}/{epochs} [Val]'):\n",
    "                data, target = data.to(device), target.to(device)\n",
    "                output = model(data)\n",
    "                loss = criterion(output, target)\n",
    "                val_loss += loss.item()\n",
    "                \n",
    "                _, predicted = output.max(1)\n",
    "                total += target.size(0)\n",
    "                correct += predicted.eq(target).sum().item()\n",
    "        \n",
    "        val_loss /= len(val_loader)\n",
    "        val_accuracy = 100. * correct / total\n",
    "        val_losses.append(val_loss)\n",
    "        val_accuracies.append(val_accuracy)\n",
    "        \n",
    "        print(f'Epoch {epoch+1}/{epochs}, '\n",
    "              f'Train Loss: {train_loss:.4f}, '\n",
    "              f'Val Loss: {val_loss:.4f}, '\n",
    "              f'Val Acc: {val_accuracy:.2f}%')\n",
    "        \n",
    "        # 保存最佳模型\n",
    "        if val_loss < best_val_loss:\n",
    "            best_val_loss = val_loss\n",
    "            best_model = model.state_dict().copy()\n",
    "            print(f'Best model saved at epoch {epoch+1} with val loss: {val_loss:.4f}')\n",
    "        \n",
    "        scheduler.step()\n",
    "    \n",
    "    # 加载最佳模型\n",
    "    model.load_state_dict(best_model)\n",
    "    \n",
    "    return model, train_losses, val_losses, val_accuracies"
   ]
  },
  {
   "cell_type": "code",
   "execution_count": 6,
   "id": "6a710970-03f1-4a4f-baf5-533b57534467",
   "metadata": {},
   "outputs": [],
   "source": [
    "# 4. 评估模型\n",
    "def evaluate(model, test_loader):\n",
    "    \"\"\"评估模型在测试集上的性能\"\"\"\n",
    "    device = torch.device(\"cuda\" if torch.cuda.is_available() else \"cpu\")\n",
    "    model = model.to(device)\n",
    "    model.eval()\n",
    "    \n",
    "    test_loss = 0\n",
    "    correct = 0\n",
    "    total = 0\n",
    "    all_targets = []\n",
    "    all_predictions = []\n",
    "    \n",
    "    criterion = nn.CrossEntropyLoss()\n",
    "    \n",
    "    with torch.no_grad():\n",
    "        for data, target in tqdm(test_loader, desc='Evaluating'):\n",
    "            data, target = data.to(device), target.to(device)\n",
    "            output = model(data)\n",
    "            loss = criterion(output, target)\n",
    "            test_loss += loss.item()\n",
    "            \n",
    "            _, predicted = output.max(1)\n",
    "            total += target.size(0)\n",
    "            correct += predicted.eq(target).sum().item()\n",
    "            \n",
    "            all_targets.extend(target.cpu().numpy())\n",
    "            all_predictions.extend(predicted.cpu().numpy())\n",
    "    \n",
    "    test_loss /= len(test_loader)\n",
    "    test_accuracy = 100. * correct / total\n",
    "    \n",
    "    print(f'Test Loss: {test_loss:.4f}, Test Acc: {test_accuracy:.2f}%')\n",
    "    \n",
    "    # 计算混淆矩阵\n",
    "    cm = confusion_matrix(all_targets, all_predictions)\n",
    "    \n",
    "    return test_accuracy, cm"
   ]
  },
  {
   "cell_type": "code",
   "execution_count": 7,
   "id": "b8512113-5a17-476e-bdcf-10db12b78407",
   "metadata": {},
   "outputs": [],
   "source": [
    "# 5. 生成样本函数（使用简单的噪声扰动）\n",
    "def generate_samples(model, num_samples=5000, device='cpu'):\n",
    "    \"\"\"使用训练好的模型生成样本\"\"\"\n",
    "    model = model.to(device)\n",
    "    model.eval()\n",
    "    \n",
    "    # 从测试集随机选择样本并添加噪声\n",
    "    _, _, test_data = load_data()\n",
    "    test_loader = DataLoader(test_data, batch_size=num_samples, shuffle=True)\n",
    "    \n",
    "    # 获取一批测试数据\n",
    "    data, _ = next(iter(test_loader))\n",
    "    data = data[:num_samples].to(device)\n",
    "    \n",
    "    # 添加随机噪声生成新样本\n",
    "    generated_samples = data + torch.randn_like(data) * 0.1\n",
    "    generated_samples = torch.clamp(generated_samples, -1, 1)\n",
    "    \n",
    "    return generated_samples"
   ]
  },
  {
   "cell_type": "code",
   "execution_count": 8,
   "id": "a3171f76-1be3-4b87-83dc-29a6a7eb4f68",
   "metadata": {},
   "outputs": [],
   "source": [
    "# 6. FID计算函数\n",
    "def calculate_frechet_distance(mu1, sigma1, mu2, sigma2, eps=1e-6):\n",
    "    \"\"\"计算两个分布之间的Frechet距离\"\"\"\n",
    "    # 转换为numpy数组\n",
    "    mu1 = np.atleast_1d(mu1)\n",
    "    mu2 = np.atleast_1d(mu2)\n",
    "    \n",
    "    sigma1 = np.atleast_2d(sigma1)\n",
    "    sigma2 = np.atleast_2d(sigma2)\n",
    "    \n",
    "    assert mu1.shape == mu2.shape, f\"Mean vectors have different lengths: {mu1.shape}, {mu2.shape}\"\n",
    "    assert sigma1.shape == sigma2.shape, f\"Covariances have different dimensions: {sigma1.shape}, {sigma2.shape}\"\n",
    "    \n",
    "    # 计算Frechet距离\n",
    "    diff = mu1 - mu2\n",
    "    \n",
    "    # 计算矩阵平方根\n",
    "    covmean, _ = linalg.sqrtm(sigma1.dot(sigma2), disp=False)\n",
    "    \n",
    "    # 处理非正定矩阵的情况\n",
    "    if not np.isfinite(covmean).all():\n",
    "        msg = (\"fid calculation produces singular product; \"\n",
    "               \"adding %s to diagonal of cov estimates\") % eps\n",
    "        print(msg)\n",
    "        offset = np.eye(sigma1.shape[0]) * eps\n",
    "        covmean = linalg.sqrtm((sigma1 + offset).dot(sigma2 + offset))\n",
    "    \n",
    "    # 检查是否有虚数部分\n",
    "    if np.iscomplexobj(covmean):\n",
    "        if not np.allclose(np.diagonal(covmean).imag, 0, atol=1e-3):\n",
    "            m = np.max(np.abs(covmean.imag))\n",
    "            raise ValueError(f\"Imaginary component {m}\")\n",
    "        covmean = covmean.real\n",
    "    \n",
    "    tr_covmean = np.trace(covmean)\n",
    "    \n",
    "    return (diff.dot(diff) + np.trace(sigma1) + np.trace(sigma2) - 2 * tr_covmean)\n",
    "\n",
    "def calculate_activation_statistics(images, model, batch_size=128, device='cpu'):\n",
    "    \"\"\"计算激活统计量（均值和协方差矩阵）\"\"\"\n",
    "    model.eval()\n",
    "    \n",
    "    if batch_size > len(images):\n",
    "        print(f\"Warning: Batch size is bigger than the data size. Setting batch size to {len(images)}\")\n",
    "        batch_size = len(images)\n",
    "    \n",
    "    dl = DataLoader(images, batch_size=batch_size)\n",
    "    \n",
    "    \n",
    "    #先通过一个样本确定特征维度（方法1）\n",
    "    with torch.no_grad():\n",
    "        sample = images[0:1].to(device)\n",
    "        pred = model(sample)\n",
    "        if len(pred.shape) > 2:\n",
    "            pred = pred.reshape(pred.size(0), -1)\n",
    "        dims = pred.size(1)\n",
    "        \n",
    "    # dims = 128 * 7 * 7 #参考CNN模型结构定义部分（方法2）\n",
    "    pred_arr = np.empty((len(images), dims))\n",
    "    \n",
    "    start_idx = 0\n",
    "    \n",
    "    for batch in tqdm(dl, desc='Calculating activation statistics'):\n",
    "        batch = batch.to(device)\n",
    "        \n",
    "        with torch.no_grad():\n",
    "            pred = model(batch)\n",
    "        \n",
    "        # 如果输出不是2D，则展平\n",
    "        if len(pred.shape) > 2:\n",
    "            pred = pred.reshape(pred.size(0), -1)\n",
    "        \n",
    "        pred_arr[start_idx:start_idx + pred.size(0)] = pred.cpu().numpy()\n",
    "        \n",
    "        start_idx += pred.size(0)\n",
    "    \n",
    "    mu = np.mean(pred_arr, axis=0)\n",
    "    sigma = np.cov(pred_arr, rowvar=False)\n",
    "    \n",
    "    return mu, sigma"
   ]
  },
  {
   "cell_type": "code",
   "execution_count": 9,
   "id": "9c4690be-e209-4d38-97b7-0c7667a79f34",
   "metadata": {},
   "outputs": [],
   "source": [
    "# 7. 特征提取模型（简化版）\n",
    "class FeatureExtractor(nn.Module):\n",
    "    \"\"\"用于FID计算的特征提取器\"\"\"\n",
    "    def __init__(self, model):\n",
    "        super(FeatureExtractor, self).__init__()\n",
    "        # 使用训练好的CNN的特征提取部分\n",
    "        self.features = nn.Sequential(\n",
    "            model.conv1,\n",
    "            nn.ReLU(),\n",
    "            nn.MaxPool2d(2, 2),\n",
    "            model.conv2,\n",
    "            nn.ReLU(),\n",
    "            nn.MaxPool2d(2, 2)\n",
    "        )\n",
    "        \n",
    "    def forward(self, x):\n",
    "        x = self.features(x)\n",
    "        x = x.view(x.size(0), -1)  # 展平为特征向量\n",
    "        return x"
   ]
  },
  {
   "cell_type": "code",
   "execution_count": 10,
   "id": "de1f35bd-4231-42c9-9031-252144aa71aa",
   "metadata": {},
   "outputs": [],
   "source": [
    "# 8. 可视化函数\n",
    "def plot_training_history(train_losses, val_losses, val_accuracies):\n",
    "    \"\"\"绘制训练历史\"\"\"\n",
    "    plt.figure(figsize=(12, 4))\n",
    "    \n",
    "    plt.subplot(1, 2, 1)\n",
    "    plt.plot(train_losses, label='Train Loss')\n",
    "    plt.plot(val_losses, label='Validation Loss')\n",
    "    plt.xlabel('Epoch')\n",
    "    plt.ylabel('Loss')\n",
    "    plt.title('Training and Validation Loss')\n",
    "    plt.legend()\n",
    "    plt.grid(True)\n",
    "    \n",
    "    plt.subplot(1, 2, 2)\n",
    "    plt.plot(val_accuracies, label='Validation Accuracy')\n",
    "    plt.xlabel('Epoch')\n",
    "    plt.ylabel('Accuracy (%)')\n",
    "    plt.title('Validation Accuracy')\n",
    "    plt.legend()\n",
    "    plt.grid(True)\n",
    "    \n",
    "    plt.tight_layout()\n",
    "    plt.savefig('training_history.png')\n",
    "    plt.close()\n",
    "\n",
    "def plot_confusion_matrix(cm):\n",
    "    \"\"\"绘制混淆矩阵\"\"\"\n",
    "    plt.figure(figsize=(10, 8))\n",
    "    sns.heatmap(cm, annot=True, fmt='d', cmap='Blues', \n",
    "                xticklabels=list(range(10)), yticklabels=list(range(10)))\n",
    "    plt.xlabel('Predicted Label')\n",
    "    plt.ylabel('True Label')\n",
    "    plt.title('Confusion Matrix')\n",
    "    plt.savefig('confusion_matrix.png')\n",
    "    plt.close()\n",
    "\n",
    "def save_samples(samples, num_samples=25, filename='generated_samples.png'):\n",
    "    \"\"\"保存生成的样本图像\"\"\"\n",
    "    plt.figure(figsize=(10, 10))\n",
    "    \n",
    "    for i in range(num_samples):\n",
    "        plt.subplot(5, 5, i+1)\n",
    "        plt.imshow(samples[i][0].cpu().numpy(), cmap='gray')\n",
    "        plt.axis('off')\n",
    "    \n",
    "    plt.tight_layout()\n",
    "    plt.savefig(filename)\n",
    "    plt.close()"
   ]
  },
  {
   "cell_type": "code",
   "execution_count": 11,
   "id": "16248808-b8dd-4f06-9cba-d1c334a6dc2b",
   "metadata": {},
   "outputs": [],
   "source": [
    "# 9. 主函数\n",
    "def main(input_size=(1, 28, 28), num_classes=10, epochs=50, lr=0.0001):\n",
    "    # 加载数据\n",
    "    train_set, val_set, test_data = load_data()\n",
    "    \n",
    "    # 创建数据加载器\n",
    "    train_loader = DataLoader(train_set, batch_size=128, shuffle=True)\n",
    "    val_loader = DataLoader(val_set, batch_size=128)\n",
    "    test_loader = DataLoader(test_data, batch_size=128)\n",
    "    \n",
    "    # 创建模型\n",
    "    model = CNN(input_size, num_classes)\n",
    "    \n",
    "    # 训练模型\n",
    "    model, train_losses, val_losses, val_accuracies = train(model, train_loader, val_loader, epochs, lr)\n",
    "    \n",
    "    # 评估模型\n",
    "    test_accuracy, cm = evaluate(model, test_loader)\n",
    "    \n",
    "    # 生成样本\n",
    "    generated_samples = generate_samples(model, num_samples=5000)\n",
    "    \n",
    "    # 保存部分生成的样本\n",
    "    save_samples(generated_samples, num_samples=25, filename='generated_samples.png')\n",
    "    \n",
    "    # 计算FID\n",
    "    feature_extractor = FeatureExtractor(model)\n",
    "    device = torch.device(\"cuda\" if torch.cuda.is_available() else \"cpu\")\n",
    "    feature_extractor = feature_extractor.to(device)\n",
    "    \n",
    "    # 计算真实样本的统计量\n",
    "    real_images = torch.stack([test_data[i][0] for i in range(5000)]).to(device)\n",
    "    mu_real, sigma_real = calculate_activation_statistics(real_images, feature_extractor, device=device)\n",
    "    \n",
    "    # 计算生成样本的统计量\n",
    "    mu_gen, sigma_gen = calculate_activation_statistics(generated_samples, feature_extractor, device=device)\n",
    "    \n",
    "    # 计算FID\n",
    "    fid = calculate_frechet_distance(mu_real, sigma_real, mu_gen, sigma_gen)\n",
    "    print(f\"FID Score: {fid:.4f}\")\n",
    "    \n",
    "    # 可视化训练历史和混淆矩阵\n",
    "    plot_training_history(train_losses, val_losses, val_accuracies)\n",
    "    plot_confusion_matrix(cm)\n",
    "    \n",
    "    # 保存模型\n",
    "    torch.save(model.state_dict(), 'mnist_cnn_model.pth')\n",
    "    print(\"Model saved as 'mnist_cnn_model.pth'\")"
   ]
  },
  {
   "cell_type": "code",
   "execution_count": 12,
   "id": "a9a2250a-3c23-4204-ab68-5540c6695c45",
   "metadata": {},
   "outputs": [
    {
     "name": "stderr",
     "output_type": "stream",
     "text": [
      "Epoch 1/50 [Train]: 100%|██████████| 375/375 [00:05<00:00, 69.23it/s]\n",
      "Epoch 1/50 [Val]: 100%|██████████| 94/94 [00:01<00:00, 91.49it/s]\n"
     ]
    },
    {
     "name": "stdout",
     "output_type": "stream",
     "text": [
      "Epoch 1/50, Train Loss: 0.2497, Val Loss: 0.0538, Val Acc: 98.27%\n",
      "Best model saved at epoch 1 with val loss: 0.0538\n"
     ]
    },
    {
     "name": "stderr",
     "output_type": "stream",
     "text": [
      "Epoch 2/50 [Train]: 100%|██████████| 375/375 [00:05<00:00, 73.41it/s]\n",
      "Epoch 2/50 [Val]: 100%|██████████| 94/94 [00:01<00:00, 93.90it/s]\n"
     ]
    },
    {
     "name": "stdout",
     "output_type": "stream",
     "text": [
      "Epoch 2/50, Train Loss: 0.0607, Val Loss: 0.0413, Val Acc: 98.72%\n",
      "Best model saved at epoch 2 with val loss: 0.0413\n"
     ]
    },
    {
     "name": "stderr",
     "output_type": "stream",
     "text": [
      "Epoch 3/50 [Train]: 100%|██████████| 375/375 [00:05<00:00, 73.57it/s]\n",
      "Epoch 3/50 [Val]: 100%|██████████| 94/94 [00:01<00:00, 93.81it/s]\n"
     ]
    },
    {
     "name": "stdout",
     "output_type": "stream",
     "text": [
      "Epoch 3/50, Train Loss: 0.0466, Val Loss: 0.0331, Val Acc: 98.98%\n",
      "Best model saved at epoch 3 with val loss: 0.0331\n"
     ]
    },
    {
     "name": "stderr",
     "output_type": "stream",
     "text": [
      "Epoch 4/50 [Train]: 100%|██████████| 375/375 [00:05<00:00, 73.26it/s]\n",
      "Epoch 4/50 [Val]: 100%|██████████| 94/94 [00:01<00:00, 93.19it/s]\n"
     ]
    },
    {
     "name": "stdout",
     "output_type": "stream",
     "text": [
      "Epoch 4/50, Train Loss: 0.0367, Val Loss: 0.0317, Val Acc: 98.98%\n",
      "Best model saved at epoch 4 with val loss: 0.0317\n"
     ]
    },
    {
     "name": "stderr",
     "output_type": "stream",
     "text": [
      "Epoch 5/50 [Train]: 100%|██████████| 375/375 [00:05<00:00, 73.91it/s]\n",
      "Epoch 5/50 [Val]: 100%|██████████| 94/94 [00:01<00:00, 93.34it/s]\n"
     ]
    },
    {
     "name": "stdout",
     "output_type": "stream",
     "text": [
      "Epoch 5/50, Train Loss: 0.0295, Val Loss: 0.0295, Val Acc: 99.12%\n",
      "Best model saved at epoch 5 with val loss: 0.0295\n"
     ]
    },
    {
     "name": "stderr",
     "output_type": "stream",
     "text": [
      "Epoch 6/50 [Train]: 100%|██████████| 375/375 [00:05<00:00, 74.07it/s]\n",
      "Epoch 6/50 [Val]: 100%|██████████| 94/94 [00:01<00:00, 93.48it/s]\n"
     ]
    },
    {
     "name": "stdout",
     "output_type": "stream",
     "text": [
      "Epoch 6/50, Train Loss: 0.0289, Val Loss: 0.0302, Val Acc: 99.12%\n"
     ]
    },
    {
     "name": "stderr",
     "output_type": "stream",
     "text": [
      "Epoch 7/50 [Train]: 100%|██████████| 375/375 [00:05<00:00, 74.12it/s]\n",
      "Epoch 7/50 [Val]: 100%|██████████| 94/94 [00:01<00:00, 93.62it/s]\n"
     ]
    },
    {
     "name": "stdout",
     "output_type": "stream",
     "text": [
      "Epoch 7/50, Train Loss: 0.0229, Val Loss: 0.0254, Val Acc: 99.23%\n",
      "Best model saved at epoch 7 with val loss: 0.0254\n"
     ]
    },
    {
     "name": "stderr",
     "output_type": "stream",
     "text": [
      "Epoch 8/50 [Train]: 100%|██████████| 375/375 [00:05<00:00, 74.13it/s]\n",
      "Epoch 8/50 [Val]: 100%|██████████| 94/94 [00:01<00:00, 93.47it/s]\n"
     ]
    },
    {
     "name": "stdout",
     "output_type": "stream",
     "text": [
      "Epoch 8/50, Train Loss: 0.0222, Val Loss: 0.0287, Val Acc: 99.20%\n"
     ]
    },
    {
     "name": "stderr",
     "output_type": "stream",
     "text": [
      "Epoch 9/50 [Train]: 100%|██████████| 375/375 [00:05<00:00, 73.96it/s]\n",
      "Epoch 9/50 [Val]: 100%|██████████| 94/94 [00:01<00:00, 93.52it/s]\n"
     ]
    },
    {
     "name": "stdout",
     "output_type": "stream",
     "text": [
      "Epoch 9/50, Train Loss: 0.0207, Val Loss: 0.0232, Val Acc: 99.38%\n",
      "Best model saved at epoch 9 with val loss: 0.0232\n"
     ]
    },
    {
     "name": "stderr",
     "output_type": "stream",
     "text": [
      "Epoch 10/50 [Train]: 100%|██████████| 375/375 [00:05<00:00, 73.81it/s]\n",
      "Epoch 10/50 [Val]: 100%|██████████| 94/94 [00:01<00:00, 93.23it/s]\n"
     ]
    },
    {
     "name": "stdout",
     "output_type": "stream",
     "text": [
      "Epoch 10/50, Train Loss: 0.0214, Val Loss: 0.0229, Val Acc: 99.38%\n",
      "Best model saved at epoch 10 with val loss: 0.0229\n"
     ]
    },
    {
     "name": "stderr",
     "output_type": "stream",
     "text": [
      "Epoch 11/50 [Train]: 100%|██████████| 375/375 [00:05<00:00, 73.66it/s]\n",
      "Epoch 11/50 [Val]: 100%|██████████| 94/94 [00:01<00:00, 93.91it/s]\n"
     ]
    },
    {
     "name": "stdout",
     "output_type": "stream",
     "text": [
      "Epoch 11/50, Train Loss: 0.0110, Val Loss: 0.0210, Val Acc: 99.42%\n",
      "Best model saved at epoch 11 with val loss: 0.0210\n"
     ]
    },
    {
     "name": "stderr",
     "output_type": "stream",
     "text": [
      "Epoch 12/50 [Train]: 100%|██████████| 375/375 [00:05<00:00, 73.47it/s]\n",
      "Epoch 12/50 [Val]: 100%|██████████| 94/94 [00:01<00:00, 93.87it/s]\n"
     ]
    },
    {
     "name": "stdout",
     "output_type": "stream",
     "text": [
      "Epoch 12/50, Train Loss: 0.0103, Val Loss: 0.0211, Val Acc: 99.40%\n"
     ]
    },
    {
     "name": "stderr",
     "output_type": "stream",
     "text": [
      "Epoch 13/50 [Train]: 100%|██████████| 375/375 [00:05<00:00, 73.33it/s]\n",
      "Epoch 13/50 [Val]: 100%|██████████| 94/94 [00:01<00:00, 93.63it/s]\n"
     ]
    },
    {
     "name": "stdout",
     "output_type": "stream",
     "text": [
      "Epoch 13/50, Train Loss: 0.0085, Val Loss: 0.0231, Val Acc: 99.38%\n"
     ]
    },
    {
     "name": "stderr",
     "output_type": "stream",
     "text": [
      "Epoch 14/50 [Train]: 100%|██████████| 375/375 [00:05<00:00, 73.97it/s]\n",
      "Epoch 14/50 [Val]: 100%|██████████| 94/94 [00:01<00:00, 93.27it/s]\n"
     ]
    },
    {
     "name": "stdout",
     "output_type": "stream",
     "text": [
      "Epoch 14/50, Train Loss: 0.0078, Val Loss: 0.0245, Val Acc: 99.42%\n"
     ]
    },
    {
     "name": "stderr",
     "output_type": "stream",
     "text": [
      "Epoch 15/50 [Train]: 100%|██████████| 375/375 [00:05<00:00, 73.47it/s]\n",
      "Epoch 15/50 [Val]: 100%|██████████| 94/94 [00:01<00:00, 93.76it/s]\n"
     ]
    },
    {
     "name": "stdout",
     "output_type": "stream",
     "text": [
      "Epoch 15/50, Train Loss: 0.0080, Val Loss: 0.0212, Val Acc: 99.47%\n"
     ]
    },
    {
     "name": "stderr",
     "output_type": "stream",
     "text": [
      "Epoch 16/50 [Train]: 100%|██████████| 375/375 [00:05<00:00, 73.26it/s]\n",
      "Epoch 16/50 [Val]: 100%|██████████| 94/94 [00:01<00:00, 93.67it/s]\n"
     ]
    },
    {
     "name": "stdout",
     "output_type": "stream",
     "text": [
      "Epoch 16/50, Train Loss: 0.0079, Val Loss: 0.0211, Val Acc: 99.42%\n"
     ]
    },
    {
     "name": "stderr",
     "output_type": "stream",
     "text": [
      "Epoch 17/50 [Train]: 100%|██████████| 375/375 [00:05<00:00, 73.67it/s]\n",
      "Epoch 17/50 [Val]: 100%|██████████| 94/94 [00:01<00:00, 93.93it/s]\n"
     ]
    },
    {
     "name": "stdout",
     "output_type": "stream",
     "text": [
      "Epoch 17/50, Train Loss: 0.0078, Val Loss: 0.0280, Val Acc: 99.33%\n"
     ]
    },
    {
     "name": "stderr",
     "output_type": "stream",
     "text": [
      "Epoch 18/50 [Train]: 100%|██████████| 375/375 [00:05<00:00, 73.54it/s]\n",
      "Epoch 18/50 [Val]: 100%|██████████| 94/94 [00:01<00:00, 93.35it/s]\n"
     ]
    },
    {
     "name": "stdout",
     "output_type": "stream",
     "text": [
      "Epoch 18/50, Train Loss: 0.0075, Val Loss: 0.0224, Val Acc: 99.47%\n"
     ]
    },
    {
     "name": "stderr",
     "output_type": "stream",
     "text": [
      "Epoch 19/50 [Train]: 100%|██████████| 375/375 [00:05<00:00, 73.79it/s]\n",
      "Epoch 19/50 [Val]: 100%|██████████| 94/94 [00:00<00:00, 94.12it/s]\n"
     ]
    },
    {
     "name": "stdout",
     "output_type": "stream",
     "text": [
      "Epoch 19/50, Train Loss: 0.0062, Val Loss: 0.0235, Val Acc: 99.44%\n"
     ]
    },
    {
     "name": "stderr",
     "output_type": "stream",
     "text": [
      "Epoch 20/50 [Train]: 100%|██████████| 375/375 [00:05<00:00, 72.62it/s]\n",
      "Epoch 20/50 [Val]: 100%|██████████| 94/94 [00:01<00:00, 93.04it/s]\n"
     ]
    },
    {
     "name": "stdout",
     "output_type": "stream",
     "text": [
      "Epoch 20/50, Train Loss: 0.0061, Val Loss: 0.0231, Val Acc: 99.47%\n"
     ]
    },
    {
     "name": "stderr",
     "output_type": "stream",
     "text": [
      "Epoch 21/50 [Train]: 100%|██████████| 375/375 [00:05<00:00, 73.29it/s]\n",
      "Epoch 21/50 [Val]: 100%|██████████| 94/94 [00:00<00:00, 94.01it/s]\n"
     ]
    },
    {
     "name": "stdout",
     "output_type": "stream",
     "text": [
      "Epoch 21/50, Train Loss: 0.0042, Val Loss: 0.0225, Val Acc: 99.43%\n"
     ]
    },
    {
     "name": "stderr",
     "output_type": "stream",
     "text": [
      "Epoch 22/50 [Train]: 100%|██████████| 375/375 [00:05<00:00, 74.01it/s]\n",
      "Epoch 22/50 [Val]: 100%|██████████| 94/94 [00:01<00:00, 93.78it/s]\n"
     ]
    },
    {
     "name": "stdout",
     "output_type": "stream",
     "text": [
      "Epoch 22/50, Train Loss: 0.0029, Val Loss: 0.0241, Val Acc: 99.43%\n"
     ]
    },
    {
     "name": "stderr",
     "output_type": "stream",
     "text": [
      "Epoch 23/50 [Train]: 100%|██████████| 375/375 [00:05<00:00, 74.32it/s]\n",
      "Epoch 23/50 [Val]: 100%|██████████| 94/94 [00:01<00:00, 93.85it/s]\n"
     ]
    },
    {
     "name": "stdout",
     "output_type": "stream",
     "text": [
      "Epoch 23/50, Train Loss: 0.0030, Val Loss: 0.0228, Val Acc: 99.50%\n"
     ]
    },
    {
     "name": "stderr",
     "output_type": "stream",
     "text": [
      "Epoch 24/50 [Train]: 100%|██████████| 375/375 [00:05<00:00, 74.32it/s]\n",
      "Epoch 24/50 [Val]: 100%|██████████| 94/94 [00:01<00:00, 93.90it/s]\n"
     ]
    },
    {
     "name": "stdout",
     "output_type": "stream",
     "text": [
      "Epoch 24/50, Train Loss: 0.0033, Val Loss: 0.0256, Val Acc: 99.39%\n"
     ]
    },
    {
     "name": "stderr",
     "output_type": "stream",
     "text": [
      "Epoch 25/50 [Train]: 100%|██████████| 375/375 [00:05<00:00, 74.27it/s]\n",
      "Epoch 25/50 [Val]: 100%|██████████| 94/94 [00:01<00:00, 93.54it/s]\n"
     ]
    },
    {
     "name": "stdout",
     "output_type": "stream",
     "text": [
      "Epoch 25/50, Train Loss: 0.0032, Val Loss: 0.0218, Val Acc: 99.51%\n"
     ]
    },
    {
     "name": "stderr",
     "output_type": "stream",
     "text": [
      "Epoch 26/50 [Train]: 100%|██████████| 375/375 [00:05<00:00, 74.36it/s]\n",
      "Epoch 26/50 [Val]: 100%|██████████| 94/94 [00:01<00:00, 93.47it/s]\n"
     ]
    },
    {
     "name": "stdout",
     "output_type": "stream",
     "text": [
      "Epoch 26/50, Train Loss: 0.0029, Val Loss: 0.0243, Val Acc: 99.49%\n"
     ]
    },
    {
     "name": "stderr",
     "output_type": "stream",
     "text": [
      "Epoch 27/50 [Train]: 100%|██████████| 375/375 [00:05<00:00, 74.23it/s]\n",
      "Epoch 27/50 [Val]: 100%|██████████| 94/94 [00:01<00:00, 93.67it/s]\n"
     ]
    },
    {
     "name": "stdout",
     "output_type": "stream",
     "text": [
      "Epoch 27/50, Train Loss: 0.0029, Val Loss: 0.0263, Val Acc: 99.42%\n"
     ]
    },
    {
     "name": "stderr",
     "output_type": "stream",
     "text": [
      "Epoch 28/50 [Train]: 100%|██████████| 375/375 [00:05<00:00, 74.39it/s]\n",
      "Epoch 28/50 [Val]: 100%|██████████| 94/94 [00:01<00:00, 93.59it/s]\n"
     ]
    },
    {
     "name": "stdout",
     "output_type": "stream",
     "text": [
      "Epoch 28/50, Train Loss: 0.0026, Val Loss: 0.0238, Val Acc: 99.56%\n"
     ]
    },
    {
     "name": "stderr",
     "output_type": "stream",
     "text": [
      "Epoch 29/50 [Train]: 100%|██████████| 375/375 [00:05<00:00, 73.97it/s]\n",
      "Epoch 29/50 [Val]: 100%|██████████| 94/94 [00:01<00:00, 93.29it/s]\n"
     ]
    },
    {
     "name": "stdout",
     "output_type": "stream",
     "text": [
      "Epoch 29/50, Train Loss: 0.0024, Val Loss: 0.0231, Val Acc: 99.49%\n"
     ]
    },
    {
     "name": "stderr",
     "output_type": "stream",
     "text": [
      "Epoch 30/50 [Train]: 100%|██████████| 375/375 [00:05<00:00, 73.76it/s]\n",
      "Epoch 30/50 [Val]: 100%|██████████| 94/94 [00:01<00:00, 93.80it/s]\n"
     ]
    },
    {
     "name": "stdout",
     "output_type": "stream",
     "text": [
      "Epoch 30/50, Train Loss: 0.0025, Val Loss: 0.0237, Val Acc: 99.44%\n"
     ]
    },
    {
     "name": "stderr",
     "output_type": "stream",
     "text": [
      "Epoch 31/50 [Train]: 100%|██████████| 375/375 [00:05<00:00, 73.74it/s]\n",
      "Epoch 31/50 [Val]: 100%|██████████| 94/94 [00:01<00:00, 93.89it/s]\n"
     ]
    },
    {
     "name": "stdout",
     "output_type": "stream",
     "text": [
      "Epoch 31/50, Train Loss: 0.0015, Val Loss: 0.0233, Val Acc: 99.50%\n"
     ]
    },
    {
     "name": "stderr",
     "output_type": "stream",
     "text": [
      "Epoch 32/50 [Train]: 100%|██████████| 375/375 [00:05<00:00, 74.07it/s]\n",
      "Epoch 32/50 [Val]: 100%|██████████| 94/94 [00:01<00:00, 93.91it/s]\n"
     ]
    },
    {
     "name": "stdout",
     "output_type": "stream",
     "text": [
      "Epoch 32/50, Train Loss: 0.0016, Val Loss: 0.0233, Val Acc: 99.51%\n"
     ]
    },
    {
     "name": "stderr",
     "output_type": "stream",
     "text": [
      "Epoch 33/50 [Train]: 100%|██████████| 375/375 [00:05<00:00, 74.18it/s]\n",
      "Epoch 33/50 [Val]: 100%|██████████| 94/94 [00:01<00:00, 93.64it/s]\n"
     ]
    },
    {
     "name": "stdout",
     "output_type": "stream",
     "text": [
      "Epoch 33/50, Train Loss: 0.0013, Val Loss: 0.0223, Val Acc: 99.51%\n"
     ]
    },
    {
     "name": "stderr",
     "output_type": "stream",
     "text": [
      "Epoch 34/50 [Train]: 100%|██████████| 375/375 [00:05<00:00, 74.37it/s]\n",
      "Epoch 34/50 [Val]: 100%|██████████| 94/94 [00:01<00:00, 93.74it/s]\n"
     ]
    },
    {
     "name": "stdout",
     "output_type": "stream",
     "text": [
      "Epoch 34/50, Train Loss: 0.0013, Val Loss: 0.0222, Val Acc: 99.49%\n"
     ]
    },
    {
     "name": "stderr",
     "output_type": "stream",
     "text": [
      "Epoch 35/50 [Train]: 100%|██████████| 375/375 [00:05<00:00, 74.36it/s]\n",
      "Epoch 35/50 [Val]: 100%|██████████| 94/94 [00:01<00:00, 93.57it/s]\n"
     ]
    },
    {
     "name": "stdout",
     "output_type": "stream",
     "text": [
      "Epoch 35/50, Train Loss: 0.0012, Val Loss: 0.0224, Val Acc: 99.52%\n"
     ]
    },
    {
     "name": "stderr",
     "output_type": "stream",
     "text": [
      "Epoch 36/50 [Train]: 100%|██████████| 375/375 [00:05<00:00, 74.34it/s]\n",
      "Epoch 36/50 [Val]: 100%|██████████| 94/94 [00:01<00:00, 93.83it/s]\n"
     ]
    },
    {
     "name": "stdout",
     "output_type": "stream",
     "text": [
      "Epoch 36/50, Train Loss: 0.0011, Val Loss: 0.0225, Val Acc: 99.56%\n"
     ]
    },
    {
     "name": "stderr",
     "output_type": "stream",
     "text": [
      "Epoch 37/50 [Train]: 100%|██████████| 375/375 [00:05<00:00, 74.23it/s]\n",
      "Epoch 37/50 [Val]: 100%|██████████| 94/94 [00:01<00:00, 93.68it/s]\n"
     ]
    },
    {
     "name": "stdout",
     "output_type": "stream",
     "text": [
      "Epoch 37/50, Train Loss: 0.0014, Val Loss: 0.0239, Val Acc: 99.50%\n"
     ]
    },
    {
     "name": "stderr",
     "output_type": "stream",
     "text": [
      "Epoch 38/50 [Train]: 100%|██████████| 375/375 [00:05<00:00, 74.24it/s]\n",
      "Epoch 38/50 [Val]: 100%|██████████| 94/94 [00:01<00:00, 93.61it/s]\n"
     ]
    },
    {
     "name": "stdout",
     "output_type": "stream",
     "text": [
      "Epoch 38/50, Train Loss: 0.0010, Val Loss: 0.0243, Val Acc: 99.50%\n"
     ]
    },
    {
     "name": "stderr",
     "output_type": "stream",
     "text": [
      "Epoch 39/50 [Train]: 100%|██████████| 375/375 [00:05<00:00, 74.40it/s]\n",
      "Epoch 39/50 [Val]: 100%|██████████| 94/94 [00:00<00:00, 94.01it/s]\n"
     ]
    },
    {
     "name": "stdout",
     "output_type": "stream",
     "text": [
      "Epoch 39/50, Train Loss: 0.0011, Val Loss: 0.0256, Val Acc: 99.47%\n"
     ]
    },
    {
     "name": "stderr",
     "output_type": "stream",
     "text": [
      "Epoch 40/50 [Train]: 100%|██████████| 375/375 [00:05<00:00, 73.48it/s]\n",
      "Epoch 40/50 [Val]: 100%|██████████| 94/94 [00:01<00:00, 93.79it/s]\n"
     ]
    },
    {
     "name": "stdout",
     "output_type": "stream",
     "text": [
      "Epoch 40/50, Train Loss: 0.0012, Val Loss: 0.0230, Val Acc: 99.58%\n"
     ]
    },
    {
     "name": "stderr",
     "output_type": "stream",
     "text": [
      "Epoch 41/50 [Train]: 100%|██████████| 375/375 [00:05<00:00, 73.82it/s]\n",
      "Epoch 41/50 [Val]: 100%|██████████| 94/94 [00:00<00:00, 94.45it/s]\n"
     ]
    },
    {
     "name": "stdout",
     "output_type": "stream",
     "text": [
      "Epoch 41/50, Train Loss: 0.0011, Val Loss: 0.0225, Val Acc: 99.54%\n"
     ]
    },
    {
     "name": "stderr",
     "output_type": "stream",
     "text": [
      "Epoch 42/50 [Train]: 100%|██████████| 375/375 [00:05<00:00, 73.91it/s]\n",
      "Epoch 42/50 [Val]: 100%|██████████| 94/94 [00:01<00:00, 93.80it/s]\n"
     ]
    },
    {
     "name": "stdout",
     "output_type": "stream",
     "text": [
      "Epoch 42/50, Train Loss: 0.0007, Val Loss: 0.0233, Val Acc: 99.53%\n"
     ]
    },
    {
     "name": "stderr",
     "output_type": "stream",
     "text": [
      "Epoch 43/50 [Train]: 100%|██████████| 375/375 [00:05<00:00, 73.83it/s]\n",
      "Epoch 43/50 [Val]: 100%|██████████| 94/94 [00:01<00:00, 93.87it/s]\n"
     ]
    },
    {
     "name": "stdout",
     "output_type": "stream",
     "text": [
      "Epoch 43/50, Train Loss: 0.0008, Val Loss: 0.0244, Val Acc: 99.47%\n"
     ]
    },
    {
     "name": "stderr",
     "output_type": "stream",
     "text": [
      "Epoch 44/50 [Train]: 100%|██████████| 375/375 [00:05<00:00, 73.87it/s]\n",
      "Epoch 44/50 [Val]: 100%|██████████| 94/94 [00:00<00:00, 94.13it/s]\n"
     ]
    },
    {
     "name": "stdout",
     "output_type": "stream",
     "text": [
      "Epoch 44/50, Train Loss: 0.0007, Val Loss: 0.0241, Val Acc: 99.50%\n"
     ]
    },
    {
     "name": "stderr",
     "output_type": "stream",
     "text": [
      "Epoch 45/50 [Train]: 100%|██████████| 375/375 [00:05<00:00, 73.81it/s]\n",
      "Epoch 45/50 [Val]: 100%|██████████| 94/94 [00:00<00:00, 94.27it/s]\n"
     ]
    },
    {
     "name": "stdout",
     "output_type": "stream",
     "text": [
      "Epoch 45/50, Train Loss: 0.0008, Val Loss: 0.0242, Val Acc: 99.52%\n"
     ]
    },
    {
     "name": "stderr",
     "output_type": "stream",
     "text": [
      "Epoch 46/50 [Train]: 100%|██████████| 375/375 [00:05<00:00, 73.73it/s]\n",
      "Epoch 46/50 [Val]: 100%|██████████| 94/94 [00:01<00:00, 93.85it/s]\n"
     ]
    },
    {
     "name": "stdout",
     "output_type": "stream",
     "text": [
      "Epoch 46/50, Train Loss: 0.0009, Val Loss: 0.0246, Val Acc: 99.52%\n"
     ]
    },
    {
     "name": "stderr",
     "output_type": "stream",
     "text": [
      "Epoch 47/50 [Train]: 100%|██████████| 375/375 [00:05<00:00, 73.78it/s]\n",
      "Epoch 47/50 [Val]: 100%|██████████| 94/94 [00:00<00:00, 94.53it/s]\n"
     ]
    },
    {
     "name": "stdout",
     "output_type": "stream",
     "text": [
      "Epoch 47/50, Train Loss: 0.0006, Val Loss: 0.0238, Val Acc: 99.55%\n"
     ]
    },
    {
     "name": "stderr",
     "output_type": "stream",
     "text": [
      "Epoch 48/50 [Train]: 100%|██████████| 375/375 [00:05<00:00, 73.84it/s]\n",
      "Epoch 48/50 [Val]: 100%|██████████| 94/94 [00:00<00:00, 94.41it/s]\n"
     ]
    },
    {
     "name": "stdout",
     "output_type": "stream",
     "text": [
      "Epoch 48/50, Train Loss: 0.0006, Val Loss: 0.0238, Val Acc: 99.54%\n"
     ]
    },
    {
     "name": "stderr",
     "output_type": "stream",
     "text": [
      "Epoch 49/50 [Train]: 100%|██████████| 375/375 [00:05<00:00, 73.77it/s]\n",
      "Epoch 49/50 [Val]: 100%|██████████| 94/94 [00:01<00:00, 93.37it/s]\n"
     ]
    },
    {
     "name": "stdout",
     "output_type": "stream",
     "text": [
      "Epoch 49/50, Train Loss: 0.0006, Val Loss: 0.0234, Val Acc: 99.51%\n"
     ]
    },
    {
     "name": "stderr",
     "output_type": "stream",
     "text": [
      "Epoch 50/50 [Train]: 100%|██████████| 375/375 [00:05<00:00, 73.05it/s]\n",
      "Epoch 50/50 [Val]: 100%|██████████| 94/94 [00:01<00:00, 93.98it/s]\n"
     ]
    },
    {
     "name": "stdout",
     "output_type": "stream",
     "text": [
      "Epoch 50/50, Train Loss: 0.0007, Val Loss: 0.0239, Val Acc: 99.51%\n"
     ]
    },
    {
     "name": "stderr",
     "output_type": "stream",
     "text": [
      "Evaluating: 100%|██████████| 79/79 [00:00<00:00, 93.12it/s]\n"
     ]
    },
    {
     "name": "stdout",
     "output_type": "stream",
     "text": [
      "Test Loss: 0.0179, Test Acc: 99.60%\n"
     ]
    },
    {
     "name": "stderr",
     "output_type": "stream",
     "text": [
      "Calculating activation statistics: 100%|██████████| 40/40 [00:00<00:00, 1280.14it/s]\n",
      "Calculating activation statistics: 100%|██████████| 40/40 [00:00<00:00, 1405.75it/s]\n"
     ]
    },
    {
     "name": "stdout",
     "output_type": "stream",
     "text": [
      "FID Score: 29.4342\n",
      "Model saved as 'mnist_cnn_model.pth'\n"
     ]
    }
   ],
   "source": [
    "if __name__ == \"__main__\":\n",
    "    main(input_size=(1, 28, 28), num_classes=10, epochs=50, lr=0.0001)"
   ]
  },
  {
   "cell_type": "code",
   "execution_count": null,
   "id": "6f409577-4198-40d6-a73a-42fedba3b091",
   "metadata": {},
   "outputs": [],
   "source": []
  }
 ],
 "metadata": {
  "kernelspec": {
   "display_name": "Python 3 (ipykernel)",
   "language": "python",
   "name": "python3"
  },
  "language_info": {
   "codemirror_mode": {
    "name": "ipython",
    "version": 3
   },
   "file_extension": ".py",
   "mimetype": "text/x-python",
   "name": "python",
   "nbconvert_exporter": "python",
   "pygments_lexer": "ipython3",
   "version": "3.9.13"
  }
 },
 "nbformat": 4,
 "nbformat_minor": 5
}
