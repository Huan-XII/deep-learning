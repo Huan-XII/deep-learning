{
 "cells": [
  {
   "cell_type": "code",
   "execution_count": 1,
   "id": "0df69935-148d-48f1-a98f-d43b1989e511",
   "metadata": {},
   "outputs": [],
   "source": [
    "import torch\n",
    "import torch.nn as nn\n",
    "import torch.optim as optim\n",
    "from torchvision import datasets, transforms\n",
    "from torch.utils.data import DataLoader, random_split\n",
    "import numpy as np\n",
    "from tqdm import tqdm\n",
    "import matplotlib.pyplot as plt\n",
    "from sklearn.metrics import confusion_matrix\n",
    "import seaborn as sns\n",
    "\n",
    "# 设置随机种子以确保可复现性\n",
    "torch.manual_seed(42)\n",
    "np.random.seed(42)"
   ]
  },
  {
   "cell_type": "code",
   "execution_count": 2,
   "id": "6c3df3fb-bcd7-4872-8584-3e6e57d000d9",
   "metadata": {},
   "outputs": [],
   "source": [
    "# 1. 数据加载与预处理\n",
    "def load_data():\n",
    "    \"\"\"加载并预处理MNIST数据集\"\"\"\n",
    "    transform = transforms.Compose([\n",
    "        transforms.ToTensor(),\n",
    "        transforms.Normalize((0.1307,), (0.3081,))  # MNIST数据集的均值和标准差\n",
    "    ])\n",
    "\n",
    "    # 加载训练集和测试集\n",
    "    train_data = datasets.MNIST('data', train=True, download=True, transform=transform)\n",
    "    test_data = datasets.MNIST('data', train=False, transform=transform)\n",
    "\n",
    "    # 划分训练集和验证集\n",
    "    train_size = int(0.8 * len(train_data))\n",
    "    val_size = len(train_data) - train_size\n",
    "    train_set, val_set = random_split(train_data, [train_size, val_size])\n",
    "\n",
    "    return train_set, val_set, test_data"
   ]
  },
  {
   "cell_type": "code",
   "execution_count": 3,
   "id": "adfb010f-3478-43a2-808a-b6d24229eb69",
   "metadata": {},
   "outputs": [],
   "source": [
    "# 2. 定义6层的RNN模型\n",
    "class RNN(nn.Module):\n",
    "    def __init__(self, input_size, hidden_size, num_layers, num_classes):\n",
    "        super(RNN, self).__init__()\n",
    "        \n",
    "        self.num_layers = num_layers\n",
    "        self.layer_norm = nn.LayerNorm(input_size)  # 对最后一维（feature_size）归一化\n",
    "        \n",
    "        self.rnn = nn.RNN(\n",
    "            input_size, \n",
    "            hidden_size, \n",
    "            num_layers=num_layers,  #通过num_layers直接控制层数\n",
    "            batch_first=True,\n",
    "            dropout=0.3  # 仅在 num_layers>1 时生效\n",
    "        )\n",
    "        \n",
    "        \n",
    "        self.fc1 = nn.Linear(hidden_size, 256)\n",
    "        self.fc2 = nn.Linear(256, num_classes)\n",
    "        self.relu = nn.ReLU()\n",
    "\n",
    "    def forward(self, x):\n",
    "        \n",
    "        x = self.layer_norm(x)\n",
    "        # 初始化隐藏状态\n",
    "        h0 = torch.zeros(self.num_layers, x.size(0), self.rnn.hidden_size).to(x.device)\n",
    "        \n",
    "        # 前向传播 RNN\n",
    "        # 对每个样本的 (sequence_length, input_size) 维度做归一化\n",
    "        \n",
    "        out, _ = self.rnn(x, h0)\n",
    "\n",
    "        # 取最后一个时间步的输出\n",
    "        out = out[:, -1, :]\n",
    "\n",
    "        # 全连接层\n",
    "        out = self.relu(self.fc1(out))\n",
    "        out = self.fc2(out)\n",
    "        return out"
   ]
  },
  {
   "cell_type": "code",
   "execution_count": 4,
   "id": "45616125-1f75-4f02-bff9-4164cb732c42",
   "metadata": {},
   "outputs": [],
   "source": [
    "# 3. 训练模型\n",
    "def train(model, train_loader, val_loader, epochs, lr):\n",
    "    \"\"\"训练RNN模型\"\"\"\n",
    "    device = torch.device(\"cuda\" if torch.cuda.is_available() else \"cpu\")\n",
    "    model = model.to(device)\n",
    "\n",
    "    criterion = nn.CrossEntropyLoss()\n",
    "    optimizer = optim.Adam(model.parameters(), lr=lr)\n",
    "\n",
    "    train_losses = []\n",
    "    val_losses = []\n",
    "    val_accuracies = []\n",
    "    best_val_loss = float('inf')\n",
    "    best_model = None\n",
    "\n",
    "    for epoch in range(epochs):\n",
    "        # 训练阶段\n",
    "        model.train()\n",
    "        train_loss = 0\n",
    "        for data, target in tqdm(train_loader, desc=f'Epoch {epoch+1}/{epochs} [Train]'):\n",
    "            data = data.squeeze(1).to(device)  # 调整数据形状以适应RNN输入\n",
    "            target = target.to(device)\n",
    "            optimizer.zero_grad()\n",
    "            output = model(data)\n",
    "            loss = criterion(output, target)\n",
    "            loss.backward()\n",
    "            optimizer.step()\n",
    "            train_loss += loss.item()\n",
    "\n",
    "        train_loss /= len(train_loader)\n",
    "        train_losses.append(train_loss)\n",
    "\n",
    "        # 验证阶段\n",
    "        model.eval()\n",
    "        val_loss = 0\n",
    "        correct = 0\n",
    "        total = 0\n",
    "        with torch.no_grad():\n",
    "            for data, target in tqdm(val_loader, desc=f'Epoch {epoch+1}/{epochs} [Val]'):\n",
    "                data = data.squeeze(1).to(device)  # 调整数据形状以适应RNN输入\n",
    "                target = target.to(device)\n",
    "                output = model(data)\n",
    "                loss = criterion(output, target)\n",
    "                val_loss += loss.item()\n",
    "\n",
    "                _, predicted = output.max(1)\n",
    "                total += target.size(0)\n",
    "                correct += predicted.eq(target).sum().item()\n",
    "\n",
    "        val_loss /= len(val_loader)\n",
    "        val_accuracy = 100. * correct / total\n",
    "        val_losses.append(val_loss)\n",
    "        val_accuracies.append(val_accuracy)\n",
    "\n",
    "        print(f'Epoch {epoch+1}/{epochs}, '\n",
    "              f'Train Loss: {train_loss:.4f}, '\n",
    "              f'Val Loss: {val_loss:.4f}, '\n",
    "              f'Val Acc: {val_accuracy:.2f}%')\n",
    "\n",
    "        # 保存最佳模型\n",
    "        if val_loss < best_val_loss:\n",
    "            best_val_loss = val_loss\n",
    "            best_model = model.state_dict().copy()\n",
    "            print(f'Best model saved at epoch {epoch+1} with val loss: {val_loss:.4f}')\n",
    "\n",
    "    # 加载最佳模型\n",
    "    model.load_state_dict(best_model)\n",
    "\n",
    "    return model, train_losses, val_losses, val_accuracies"
   ]
  },
  {
   "cell_type": "code",
   "execution_count": 5,
   "id": "d3507480-a4f6-47b9-968e-c0e6ba36135b",
   "metadata": {},
   "outputs": [],
   "source": [
    "# 4. 评估模型\n",
    "def evaluate(model, test_loader):\n",
    "    \"\"\"评估模型在测试集上的性能\"\"\"\n",
    "    device = torch.device(\"cuda\" if torch.cuda.is_available() else \"cpu\")\n",
    "    model = model.to(device)\n",
    "    model.eval()\n",
    "\n",
    "    test_loss = 0\n",
    "    correct = 0\n",
    "    total = 0\n",
    "    all_targets = []\n",
    "    all_predictions = []\n",
    "\n",
    "    criterion = nn.CrossEntropyLoss()\n",
    "\n",
    "    with torch.no_grad():\n",
    "        for data, target in tqdm(test_loader, desc='Evaluating'):\n",
    "            data = data.squeeze(1).to(device)  # 调整数据形状以适应RNN输入\n",
    "            target = target.to(device)\n",
    "            output = model(data)\n",
    "            loss = criterion(output, target)\n",
    "            test_loss += loss.item()\n",
    "\n",
    "            _, predicted = output.max(1)\n",
    "            total += target.size(0)\n",
    "            correct += predicted.eq(target).sum().item()\n",
    "\n",
    "            all_targets.extend(target.cpu().numpy())\n",
    "            all_predictions.extend(predicted.cpu().numpy())\n",
    "\n",
    "    test_loss /= len(test_loader)\n",
    "    test_accuracy = 100. * correct / total\n",
    "\n",
    "    print(f'Test Loss: {test_loss:.4f}, Test Acc: {test_accuracy:.2f}%')\n",
    "\n",
    "    # 计算混淆矩阵\n",
    "    cm = confusion_matrix(all_targets, all_predictions)\n",
    "\n",
    "    return test_accuracy, cm"
   ]
  },
  {
   "cell_type": "code",
   "execution_count": 6,
   "id": "65ec7570-5262-484a-a8ea-e238b5d25ade",
   "metadata": {},
   "outputs": [],
   "source": [
    "# 5. 可视化函数\n",
    "def plot_training_history(train_losses, val_losses, val_accuracies):\n",
    "    \"\"\"绘制训练历史\"\"\"\n",
    "    plt.figure(figsize=(12, 4))\n",
    "\n",
    "    plt.subplot(1, 2, 1)\n",
    "    plt.plot(train_losses, label='Train Loss')\n",
    "    plt.plot(val_losses, label='Validation Loss')\n",
    "    plt.xlabel('Epoch')\n",
    "    plt.ylabel('Loss')\n",
    "    plt.title('Training and Validation Loss')\n",
    "    plt.legend()\n",
    "    plt.grid(True)\n",
    "\n",
    "    plt.subplot(1, 2, 2)\n",
    "    plt.plot(val_accuracies, label='Validation Accuracy')\n",
    "    plt.xlabel('Epoch')\n",
    "    plt.ylabel('Accuracy (%)')\n",
    "    plt.title('Validation Accuracy')\n",
    "    plt.legend()\n",
    "    plt.grid(True)\n",
    "\n",
    "    plt.tight_layout()\n",
    "    plt.savefig('training_history.png')\n",
    "    plt.close()\n",
    "\n",
    "def plot_confusion_matrix(cm):\n",
    "    \"\"\"绘制混淆矩阵\"\"\"\n",
    "    plt.figure(figsize=(10, 8))\n",
    "    sns.heatmap(cm, annot=True, fmt='d', cmap='Blues',\n",
    "                xticklabels=list(range(10)), yticklabels=list(range(10)))\n",
    "    plt.xlabel('Predicted Label')\n",
    "    plt.ylabel('True Label')\n",
    "    plt.title('Confusion Matrix')\n",
    "    plt.savefig('confusion_matrix.png')\n",
    "    plt.close()"
   ]
  },
  {
   "cell_type": "code",
   "execution_count": 7,
   "id": "c0b12fdb-4f94-4cc5-ac7f-16d422457ff6",
   "metadata": {},
   "outputs": [],
   "source": [
    "# 6. 主函数\n",
    "def main(input_size=28, hidden_size=1024, num_classes=10, num_layers=4, epochs=50, lr=0.0001):\n",
    "\n",
    "    # 加载数据\n",
    "    train_set, val_set, test_data = load_data()\n",
    "\n",
    "    # 创建数据加载器\n",
    "    train_loader = DataLoader(train_set, batch_size=128, shuffle=True)\n",
    "    val_loader = DataLoader(val_set, batch_size=128)\n",
    "    test_loader = DataLoader(test_data, batch_size=128)\n",
    "\n",
    "    # 创建模型\n",
    "    model = RNN(input_size, hidden_size, num_layers, num_classes)\n",
    "\n",
    "    # 训练模型\n",
    "    model, train_losses, val_losses, val_accuracies = train(model, train_loader, val_loader, epochs, lr)\n",
    "\n",
    "    # 评估模型\n",
    "    test_accuracy, cm = evaluate(model, test_loader)\n",
    "\n",
    "    # 可视化训练历史和混淆矩阵\n",
    "    plot_training_history(train_losses, val_losses, val_accuracies)\n",
    "    plot_confusion_matrix(cm)\n",
    "\n",
    "    # 保存模型\n",
    "    torch.save(model.state_dict(), 'mnist_rnn_model.pth')\n",
    "    print(\"Model saved as 'mnist_rnn_model.pth'\")"
   ]
  },
  {
   "cell_type": "code",
   "execution_count": 8,
   "id": "92a46a3e-da84-4ab3-a524-6fffac4b5540",
   "metadata": {},
   "outputs": [
    {
     "name": "stderr",
     "output_type": "stream",
     "text": [
      "Epoch 1/20 [Train]: 100%|██████████| 375/375 [00:05<00:00, 66.21it/s]\n",
      "Epoch 1/20 [Val]: 100%|██████████| 94/94 [00:01<00:00, 83.42it/s]\n"
     ]
    },
    {
     "name": "stdout",
     "output_type": "stream",
     "text": [
      "Epoch 1/20, Train Loss: 0.7354, Val Loss: 0.3507, Val Acc: 89.34%\n",
      "Best model saved at epoch 1 with val loss: 0.3507\n"
     ]
    },
    {
     "name": "stderr",
     "output_type": "stream",
     "text": [
      "Epoch 2/20 [Train]: 100%|██████████| 375/375 [00:05<00:00, 67.24it/s]\n",
      "Epoch 2/20 [Val]: 100%|██████████| 94/94 [00:01<00:00, 83.15it/s]\n"
     ]
    },
    {
     "name": "stdout",
     "output_type": "stream",
     "text": [
      "Epoch 2/20, Train Loss: 0.2825, Val Loss: 0.2183, Val Acc: 93.47%\n",
      "Best model saved at epoch 2 with val loss: 0.2183\n"
     ]
    },
    {
     "name": "stderr",
     "output_type": "stream",
     "text": [
      "Epoch 3/20 [Train]: 100%|██████████| 375/375 [00:05<00:00, 66.63it/s]\n",
      "Epoch 3/20 [Val]: 100%|██████████| 94/94 [00:01<00:00, 79.95it/s]\n"
     ]
    },
    {
     "name": "stdout",
     "output_type": "stream",
     "text": [
      "Epoch 3/20, Train Loss: 0.1980, Val Loss: 0.1803, Val Acc: 94.83%\n",
      "Best model saved at epoch 3 with val loss: 0.1803\n"
     ]
    },
    {
     "name": "stderr",
     "output_type": "stream",
     "text": [
      "Epoch 4/20 [Train]: 100%|██████████| 375/375 [00:05<00:00, 64.68it/s]\n",
      "Epoch 4/20 [Val]: 100%|██████████| 94/94 [00:01<00:00, 82.32it/s]\n"
     ]
    },
    {
     "name": "stdout",
     "output_type": "stream",
     "text": [
      "Epoch 4/20, Train Loss: 0.1512, Val Loss: 0.1748, Val Acc: 94.61%\n",
      "Best model saved at epoch 4 with val loss: 0.1748\n"
     ]
    },
    {
     "name": "stderr",
     "output_type": "stream",
     "text": [
      "Epoch 5/20 [Train]: 100%|██████████| 375/375 [00:05<00:00, 63.93it/s]\n",
      "Epoch 5/20 [Val]: 100%|██████████| 94/94 [00:01<00:00, 78.74it/s]\n"
     ]
    },
    {
     "name": "stdout",
     "output_type": "stream",
     "text": [
      "Epoch 5/20, Train Loss: 0.1246, Val Loss: 0.1180, Val Acc: 96.49%\n",
      "Best model saved at epoch 5 with val loss: 0.1180\n"
     ]
    },
    {
     "name": "stderr",
     "output_type": "stream",
     "text": [
      "Epoch 6/20 [Train]: 100%|██████████| 375/375 [00:05<00:00, 63.84it/s]\n",
      "Epoch 6/20 [Val]: 100%|██████████| 94/94 [00:01<00:00, 77.90it/s]\n"
     ]
    },
    {
     "name": "stdout",
     "output_type": "stream",
     "text": [
      "Epoch 6/20, Train Loss: 0.1068, Val Loss: 0.1105, Val Acc: 96.71%\n",
      "Best model saved at epoch 6 with val loss: 0.1105\n"
     ]
    },
    {
     "name": "stderr",
     "output_type": "stream",
     "text": [
      "Epoch 7/20 [Train]: 100%|██████████| 375/375 [00:05<00:00, 64.65it/s]\n",
      "Epoch 7/20 [Val]: 100%|██████████| 94/94 [00:01<00:00, 80.38it/s]\n"
     ]
    },
    {
     "name": "stdout",
     "output_type": "stream",
     "text": [
      "Epoch 7/20, Train Loss: 0.0943, Val Loss: 0.1297, Val Acc: 96.27%\n"
     ]
    },
    {
     "name": "stderr",
     "output_type": "stream",
     "text": [
      "Epoch 8/20 [Train]: 100%|██████████| 375/375 [00:05<00:00, 64.73it/s]\n",
      "Epoch 8/20 [Val]: 100%|██████████| 94/94 [00:01<00:00, 84.71it/s]\n"
     ]
    },
    {
     "name": "stdout",
     "output_type": "stream",
     "text": [
      "Epoch 8/20, Train Loss: 0.0832, Val Loss: 0.0977, Val Acc: 97.28%\n",
      "Best model saved at epoch 8 with val loss: 0.0977\n"
     ]
    },
    {
     "name": "stderr",
     "output_type": "stream",
     "text": [
      "Epoch 9/20 [Train]: 100%|██████████| 375/375 [00:05<00:00, 65.61it/s]\n",
      "Epoch 9/20 [Val]: 100%|██████████| 94/94 [00:01<00:00, 82.18it/s]\n"
     ]
    },
    {
     "name": "stdout",
     "output_type": "stream",
     "text": [
      "Epoch 9/20, Train Loss: 0.0796, Val Loss: 0.0796, Val Acc: 97.67%\n",
      "Best model saved at epoch 9 with val loss: 0.0796\n"
     ]
    },
    {
     "name": "stderr",
     "output_type": "stream",
     "text": [
      "Epoch 10/20 [Train]: 100%|██████████| 375/375 [00:05<00:00, 66.31it/s]\n",
      "Epoch 10/20 [Val]: 100%|██████████| 94/94 [00:01<00:00, 82.17it/s]\n"
     ]
    },
    {
     "name": "stdout",
     "output_type": "stream",
     "text": [
      "Epoch 10/20, Train Loss: 0.0736, Val Loss: 0.0789, Val Acc: 97.69%\n",
      "Best model saved at epoch 10 with val loss: 0.0789\n"
     ]
    },
    {
     "name": "stderr",
     "output_type": "stream",
     "text": [
      "Epoch 11/20 [Train]: 100%|██████████| 375/375 [00:05<00:00, 63.75it/s]\n",
      "Epoch 11/20 [Val]: 100%|██████████| 94/94 [00:01<00:00, 81.02it/s]\n"
     ]
    },
    {
     "name": "stdout",
     "output_type": "stream",
     "text": [
      "Epoch 11/20, Train Loss: 0.0653, Val Loss: 0.0796, Val Acc: 97.68%\n"
     ]
    },
    {
     "name": "stderr",
     "output_type": "stream",
     "text": [
      "Epoch 12/20 [Train]: 100%|██████████| 375/375 [00:05<00:00, 65.25it/s]\n",
      "Epoch 12/20 [Val]: 100%|██████████| 94/94 [00:01<00:00, 81.25it/s]\n"
     ]
    },
    {
     "name": "stdout",
     "output_type": "stream",
     "text": [
      "Epoch 12/20, Train Loss: 0.0628, Val Loss: 0.0760, Val Acc: 97.78%\n",
      "Best model saved at epoch 12 with val loss: 0.0760\n"
     ]
    },
    {
     "name": "stderr",
     "output_type": "stream",
     "text": [
      "Epoch 13/20 [Train]: 100%|██████████| 375/375 [00:05<00:00, 64.94it/s]\n",
      "Epoch 13/20 [Val]: 100%|██████████| 94/94 [00:01<00:00, 80.48it/s]\n"
     ]
    },
    {
     "name": "stdout",
     "output_type": "stream",
     "text": [
      "Epoch 13/20, Train Loss: 0.0610, Val Loss: 0.0726, Val Acc: 97.88%\n",
      "Best model saved at epoch 13 with val loss: 0.0726\n"
     ]
    },
    {
     "name": "stderr",
     "output_type": "stream",
     "text": [
      "Epoch 14/20 [Train]: 100%|██████████| 375/375 [00:05<00:00, 63.63it/s]\n",
      "Epoch 14/20 [Val]: 100%|██████████| 94/94 [00:01<00:00, 77.72it/s]\n"
     ]
    },
    {
     "name": "stdout",
     "output_type": "stream",
     "text": [
      "Epoch 14/20, Train Loss: 0.0518, Val Loss: 0.0641, Val Acc: 98.25%\n",
      "Best model saved at epoch 14 with val loss: 0.0641\n"
     ]
    },
    {
     "name": "stderr",
     "output_type": "stream",
     "text": [
      "Epoch 15/20 [Train]: 100%|██████████| 375/375 [00:05<00:00, 63.99it/s]\n",
      "Epoch 15/20 [Val]: 100%|██████████| 94/94 [00:01<00:00, 79.56it/s]\n"
     ]
    },
    {
     "name": "stdout",
     "output_type": "stream",
     "text": [
      "Epoch 15/20, Train Loss: 0.0517, Val Loss: 0.0781, Val Acc: 97.78%\n"
     ]
    },
    {
     "name": "stderr",
     "output_type": "stream",
     "text": [
      "Epoch 16/20 [Train]: 100%|██████████| 375/375 [00:05<00:00, 66.06it/s]\n",
      "Epoch 16/20 [Val]: 100%|██████████| 94/94 [00:01<00:00, 80.11it/s]\n"
     ]
    },
    {
     "name": "stdout",
     "output_type": "stream",
     "text": [
      "Epoch 16/20, Train Loss: 0.0477, Val Loss: 0.0688, Val Acc: 98.04%\n"
     ]
    },
    {
     "name": "stderr",
     "output_type": "stream",
     "text": [
      "Epoch 17/20 [Train]: 100%|██████████| 375/375 [00:05<00:00, 65.70it/s]\n",
      "Epoch 17/20 [Val]: 100%|██████████| 94/94 [00:01<00:00, 80.81it/s]\n"
     ]
    },
    {
     "name": "stdout",
     "output_type": "stream",
     "text": [
      "Epoch 17/20, Train Loss: 0.0454, Val Loss: 0.0652, Val Acc: 98.08%\n"
     ]
    },
    {
     "name": "stderr",
     "output_type": "stream",
     "text": [
      "Epoch 18/20 [Train]: 100%|██████████| 375/375 [00:05<00:00, 64.95it/s]\n",
      "Epoch 18/20 [Val]: 100%|██████████| 94/94 [00:01<00:00, 82.22it/s]\n"
     ]
    },
    {
     "name": "stdout",
     "output_type": "stream",
     "text": [
      "Epoch 18/20, Train Loss: 0.0465, Val Loss: 0.0583, Val Acc: 98.31%\n",
      "Best model saved at epoch 18 with val loss: 0.0583\n"
     ]
    },
    {
     "name": "stderr",
     "output_type": "stream",
     "text": [
      "Epoch 19/20 [Train]: 100%|██████████| 375/375 [00:05<00:00, 66.47it/s]\n",
      "Epoch 19/20 [Val]: 100%|██████████| 94/94 [00:01<00:00, 83.34it/s]\n"
     ]
    },
    {
     "name": "stdout",
     "output_type": "stream",
     "text": [
      "Epoch 19/20, Train Loss: 0.0416, Val Loss: 0.0709, Val Acc: 98.03%\n"
     ]
    },
    {
     "name": "stderr",
     "output_type": "stream",
     "text": [
      "Epoch 20/20 [Train]: 100%|██████████| 375/375 [00:05<00:00, 65.45it/s]\n",
      "Epoch 20/20 [Val]: 100%|██████████| 94/94 [00:01<00:00, 83.24it/s]\n"
     ]
    },
    {
     "name": "stdout",
     "output_type": "stream",
     "text": [
      "Epoch 20/20, Train Loss: 0.0396, Val Loss: 0.0518, Val Acc: 98.60%\n",
      "Best model saved at epoch 20 with val loss: 0.0518\n"
     ]
    },
    {
     "name": "stderr",
     "output_type": "stream",
     "text": [
      "Evaluating: 100%|██████████| 79/79 [00:00<00:00, 80.46it/s]\n"
     ]
    },
    {
     "name": "stdout",
     "output_type": "stream",
     "text": [
      "Test Loss: 0.0499, Test Acc: 98.57%\n",
      "Model saved as 'mnist_rnn_model.pth'\n"
     ]
    }
   ],
   "source": [
    "if __name__ == \"__main__\":\n",
    "    main(input_size=28, hidden_size=512, num_classes=10, num_layers=4, epochs=20, lr=0.0001)"
   ]
  },
  {
   "cell_type": "code",
   "execution_count": null,
   "id": "2359627f-0ee5-4877-be6c-0e0afd729bc4",
   "metadata": {},
   "outputs": [],
   "source": []
  },
  {
   "cell_type": "code",
   "execution_count": null,
   "id": "c0cec4b7-eda8-4922-be1d-576827b63a26",
   "metadata": {},
   "outputs": [],
   "source": []
  }
 ],
 "metadata": {
  "kernelspec": {
   "display_name": "Python 3 (ipykernel)",
   "language": "python",
   "name": "python3"
  },
  "language_info": {
   "codemirror_mode": {
    "name": "ipython",
    "version": 3
   },
   "file_extension": ".py",
   "mimetype": "text/x-python",
   "name": "python",
   "nbconvert_exporter": "python",
   "pygments_lexer": "ipython3",
   "version": "3.9.13"
  }
 },
 "nbformat": 4,
 "nbformat_minor": 5
}
